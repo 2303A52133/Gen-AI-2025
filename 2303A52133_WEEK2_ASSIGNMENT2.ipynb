{
  "cells": [
    {
      "cell_type": "code",
      "execution_count": 4,
      "metadata": {
        "colab": {
          "base_uri": "https://localhost:8080/"
        },
        "id": "5mHzxs79s4GX",
        "outputId": "ab78cd91-f591-4a73-b796-501cb3ef816e"
      },
      "outputs": [
        {
          "name": "stdout",
          "output_type": "stream",
          "text": [
            "Optimal number of units of A: 2.0000000000000004\n",
            "Optimal number of units of B: 2.9999999999999996\n",
            "Maximum profit: Rs 27.0\n"
          ]
        },
        {
          "name": "stderr",
          "output_type": "stream",
          "text": [
            "<ipython-input-4-d0bd6497ee51>:19: DeprecationWarning: `method='simplex'` is deprecated and will be removed in SciPy 1.11.0. Please use one of the HiGHS solvers (e.g. `method='highs'`) in new code.\n",
            "  result = linprog(c, A_ub=A, b_ub=b, bounds=[x_bounds, y_bounds], method='simplex')\n"
          ]
        }
      ],
      "source": [
        "#SHRUTHI ADDAGUDI 2303A52133 BATCH 37\n",
        "\n",
        "import numpy as np\n",
        "from scipy.optimize import linprog\n",
        "\n",
        "\n",
        "c = [-6, -5]\n",
        "\n",
        "\n",
        "A = [[1, 1],\n",
        "     [3, 2]]\n",
        "\n",
        "\n",
        "b = [5, 12]\n",
        "\n",
        "\n",
        "x_bounds = (0, None)\n",
        "y_bounds = (0, None)\n",
        "\n",
        "\n",
        "result = linprog(c, A_ub=A, b_ub=b, bounds=[x_bounds, y_bounds], method='simplex')\n",
        "\n",
        "\n",
        "units_of_A = result.x[0]\n",
        "units_of_B = result.x[1]\n",
        "max_profit = -result.fun\n",
        "\n",
        "print(f\"Optimal number of units of A: {units_of_A}\")\n",
        "print(f\"Optimal number of units of B: {units_of_B}\")\n",
        "print(f\"Maximum profit: Rs {max_profit}\")\n"
      ]
    },
    {
      "cell_type": "code",
      "execution_count": 5,
      "metadata": {
        "colab": {
          "base_uri": "https://localhost:8080/"
        },
        "id": "Rym85Eclu5Lt",
        "outputId": "87610601-2db9-41a0-c757-051e0eb704ea"
      },
      "outputs": [
        {
          "name": "stdout",
          "output_type": "stream",
          "text": [
            "Optimal hectares of Wheat: 97.89473684210526\n",
            "Optimal hectares of Barley: 7.368421052631579\n",
            "Maximum profit: Rs 5778.9473684210525\n"
          ]
        },
        {
          "name": "stderr",
          "output_type": "stream",
          "text": [
            "<ipython-input-5-57c2ff5a60dd>:16: DeprecationWarning: `method='simplex'` is deprecated and will be removed in SciPy 1.11.0. Please use one of the HiGHS solvers (e.g. `method='highs'`) in new code.\n",
            "  result = linprog(c, A_ub=A, b_ub=b, bounds=[w_bounds, b_bounds], method='simplex')\n"
          ]
        }
      ],
      "source": [
        "\n",
        "c = [-50, -120]\n",
        "\n",
        "\n",
        "A = [[1, 1],\n",
        "     [7000, 2000],\n",
        "          [10, 30]]\n",
        "\n",
        "\n",
        "b = [110, 700000, 1200]\n",
        "\n",
        "\n",
        "w_bounds = (0, None)\n",
        "b_bounds = (0, None)\n",
        "\n",
        "\n",
        "result = linprog(c, A_ub=A, b_ub=b, bounds=[w_bounds, b_bounds], method='simplex')\n",
        "\n",
        "\n",
        "hectares_wheat = result.x[0]\n",
        "hectares_barley = result.x[1]\n",
        "max_profit = -result.fun\n",
        "\n",
        "print(f\"Optimal hectares of Wheat: {hectares_wheat}\")\n",
        "print(f\"Optimal hectares of Barley: {hectares_barley}\")\n",
        "print(f\"Maximum profit: Rs {max_profit}\")\n"
      ]
    }
  ],
  "metadata": {
    "colab": {
      "provenance": []
    },
    "kernelspec": {
      "display_name": "Python 3",
      "name": "python3"
    },
    "language_info": {
      "name": "python"
    }
  },
  "nbformat": 4,
  "nbformat_minor": 0
}
